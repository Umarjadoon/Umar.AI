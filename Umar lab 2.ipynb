{
  "nbformat": 4,
  "nbformat_minor": 0,
  "metadata": {
    "colab": {
      "provenance": []
    },
    "kernelspec": {
      "name": "python3",
      "display_name": "Python 3"
    },
    "language_info": {
      "name": "python"
    }
  },
  "cells": [
    {
      "cell_type": "code",
      "execution_count": null,
      "metadata": {
        "id": "41jivWYLPvzA"
      },
      "outputs": [],
      "source": []
    },
    {
      "cell_type": "markdown",
      "source": [
        "Create a 1D array of numbers from 0 to 9"
      ],
      "metadata": {
        "id": "UTHTV_B6WEny"
      }
    },
    {
      "cell_type": "code",
      "source": [
        "import numpy\n",
        "\n",
        "arr = numpy.array([0,1,2,3,4,5,6,7,8,9])\n",
        "\n",
        "print(arr)"
      ],
      "metadata": {
        "colab": {
          "base_uri": "https://localhost:8080/"
        },
        "id": "LbHsxYiHWG75",
        "outputId": "910cf6b4-4ade-427e-c6fd-c95c8bdb5b6d"
      },
      "execution_count": 34,
      "outputs": [
        {
          "output_type": "stream",
          "name": "stdout",
          "text": [
            "[0 1 2 3 4 5 6 7 8 9]\n"
          ]
        }
      ]
    },
    {
      "cell_type": "markdown",
      "source": [],
      "metadata": {
        "id": "VjFOUL6hTmer"
      }
    },
    {
      "cell_type": "markdown",
      "source": [
        "Create a 2D array with shape (3, 3), where values range from 1 to 9.\n"
      ],
      "metadata": {
        "id": "NdbH3zDTWjD5"
      }
    },
    {
      "cell_type": "code",
      "source": [
        "import numpy as np\n",
        "\n",
        "arr2 = np.array([[1,2,3,4,5,6,7,8,9], [1,2,3,4,5,6,7,8,9],[1,2,3,4,5,6,7,8,9]])\n",
        "\n",
        "print(arr2)"
      ],
      "metadata": {
        "colab": {
          "base_uri": "https://localhost:8080/"
        },
        "collapsed": true,
        "id": "rg41QuW3WkMB",
        "outputId": "ea8fc911-cf7b-4731-90fa-aaab7699d89e"
      },
      "execution_count": 19,
      "outputs": [
        {
          "output_type": "stream",
          "name": "stdout",
          "text": [
            "[[1 2 3 4 5 6 7 8 9]\n",
            " [1 2 3 4 5 6 7 8 9]\n",
            " [1 2 3 4 5 6 7 8 9]]\n"
          ]
        }
      ]
    },
    {
      "cell_type": "markdown",
      "source": [
        "Create a 3D array of shape (2, 3, 4) filled with random integers from 1 to 100."
      ],
      "metadata": {
        "id": "DYdTHMHpXNrA"
      }
    },
    {
      "cell_type": "code",
      "source": [
        "import numpy as np\n",
        "\n",
        "arr3 = np.array([[[1, 2,0], [2,1,0], [4,3,0]],\n",
        " [[1,2,3], [4,3,2], [3,3,3]],\n",
        " [[4,3,2], [1,2,3], [4,4,4]]])\n",
        "\n",
        "print(arr3)"
      ],
      "metadata": {
        "colab": {
          "base_uri": "https://localhost:8080/"
        },
        "id": "EehdM-qMXoDo",
        "outputId": "93588ef3-d763-48ea-99ef-96ba34f60ce8"
      },
      "execution_count": 31,
      "outputs": [
        {
          "output_type": "stream",
          "name": "stdout",
          "text": [
            "[[[1 2 0]\n",
            "  [2 1 0]\n",
            "  [4 3 0]]\n",
            "\n",
            " [[1 2 3]\n",
            "  [4 3 2]\n",
            "  [3 3 3]]\n",
            "\n",
            " [[4 3 2]\n",
            "  [1 2 3]\n",
            "  [4 4 4]]]\n"
          ]
        }
      ]
    },
    {
      "cell_type": "markdown",
      "source": [
        "Given the array arr2 from Task 1, extract the second row.\n"
      ],
      "metadata": {
        "id": "QomfNxvRZy-E"
      }
    },
    {
      "cell_type": "code",
      "source": [
        "second_row = arr2[1]\n",
        "print(second_row)"
      ],
      "metadata": {
        "colab": {
          "base_uri": "https://localhost:8080/"
        },
        "id": "twEbMGlyae3L",
        "outputId": "a086ec97-f42c-43af-f794-0d45bd89d26c"
      },
      "execution_count": 28,
      "outputs": [
        {
          "output_type": "stream",
          "name": "stdout",
          "text": [
            "[1 2 3 4 5 6 7 8 9]\n"
          ]
        }
      ]
    },
    {
      "cell_type": "markdown",
      "source": [
        "Extract the element at the 3rd row and 2nd column of arr2."
      ],
      "metadata": {
        "id": "-6QOMedfbO6y"
      }
    },
    {
      "cell_type": "code",
      "source": [
        "\n",
        "\n",
        "element = arr2[2, 1]\n",
        "print(element)\n"
      ],
      "metadata": {
        "colab": {
          "base_uri": "https://localhost:8080/"
        },
        "id": "Y7Uz40rhbUDa",
        "outputId": "6b9fbc48-9fd7-4d90-9f34-23221ab2a57a"
      },
      "execution_count": 29,
      "outputs": [
        {
          "output_type": "stream",
          "name": "stdout",
          "text": [
            "2\n"
          ]
        }
      ]
    },
    {
      "cell_type": "markdown",
      "source": [
        "Extract all elements from the 3D array arr3 at the first index (0th layer)"
      ],
      "metadata": {
        "id": "6jsnYf-kesY3"
      }
    },
    {
      "cell_type": "code",
      "source": [
        "firstIndex=arr3[0]\n",
        "print(firstIndex)"
      ],
      "metadata": {
        "colab": {
          "base_uri": "https://localhost:8080/"
        },
        "id": "jsYohu0Ee1il",
        "outputId": "d8a23705-00d8-4c62-b33b-84753114360d"
      },
      "execution_count": 32,
      "outputs": [
        {
          "output_type": "stream",
          "name": "stdout",
          "text": [
            "[[1 2 0]\n",
            " [2 1 0]\n",
            " [4 3 0]]\n"
          ]
        }
      ]
    },
    {
      "cell_type": "markdown",
      "source": [
        "Add 10 to each element of arr1."
      ],
      "metadata": {
        "id": "kr9yRGFNhqKS"
      }
    },
    {
      "cell_type": "code",
      "source": [
        "for i in range(10):\n",
        "    arr[i] += 10;\n",
        "print(arr);"
      ],
      "metadata": {
        "colab": {
          "base_uri": "https://localhost:8080/"
        },
        "id": "WNBKEWxThtZJ",
        "outputId": "d41385b6-e94e-4c51-a445-ea894f0b4906"
      },
      "execution_count": 44,
      "outputs": [
        {
          "output_type": "stream",
          "name": "stdout",
          "text": [
            "[10 11 12 13 14 15 16 17 18 19]\n"
          ]
        }
      ]
    },
    {
      "cell_type": "markdown",
      "source": [
        "Multiply each element of arr2 by 2."
      ],
      "metadata": {
        "id": "g75ffjfeijWJ"
      }
    },
    {
      "cell_type": "code",
      "source": [
        "\n",
        "\n",
        "arr2_multiplied = arr2 * 2\n",
        "print(arr2_multiplied)\n"
      ],
      "metadata": {
        "colab": {
          "base_uri": "https://localhost:8080/"
        },
        "id": "ZGJh-e-2inJA",
        "outputId": "61af40ee-7d78-4d15-af30-dc2d672bc48f"
      },
      "execution_count": 45,
      "outputs": [
        {
          "output_type": "stream",
          "name": "stdout",
          "text": [
            "[[ 2  4  6  8 10 12 14 16 18]\n",
            " [ 2  4  6  8 10 12 14 16 18]\n",
            " [ 2  4  6  8 10 12 14 16 18]]\n"
          ]
        }
      ]
    }
  ]
}